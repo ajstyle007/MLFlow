{
 "cells": [
  {
   "cell_type": "code",
   "execution_count": 3,
   "id": "e432a96c-b43d-4332-90b4-31dc4156b206",
   "metadata": {},
   "outputs": [],
   "source": [
    "from hyperopt import fmin, tpe, hp\n",
    "import numpy as np"
   ]
  },
  {
   "cell_type": "code",
   "execution_count": 6,
   "id": "67261f08-f8fc-427b-8c70-38b43b03487b",
   "metadata": {},
   "outputs": [],
   "source": [
    "# define objective function\n",
    "\n",
    "def objecive(x):\n",
    "    return np.square(x-5) + 4"
   ]
  },
  {
   "cell_type": "code",
   "execution_count": 9,
   "id": "591a146f-a04f-4322-8748-24e0fa3a9a05",
   "metadata": {},
   "outputs": [
    {
     "data": {
      "text/plain": [
       "4"
      ]
     },
     "execution_count": 9,
     "metadata": {},
     "output_type": "execute_result"
    }
   ],
   "source": [
    "objecive(5)"
   ]
  },
  {
   "cell_type": "code",
   "execution_count": 10,
   "id": "7bd843d6-14d8-4840-b7b4-396589cd956e",
   "metadata": {},
   "outputs": [
    {
     "data": {
      "text/plain": [
       "<hyperopt.pyll.base.Apply at 0x27affe789b0>"
      ]
     },
     "execution_count": 10,
     "metadata": {},
     "output_type": "execute_result"
    }
   ],
   "source": [
    "# hypermeter space\n",
    "\n",
    "space = hp.uniform(\"x\", -100, 100)\n",
    "space"
   ]
  },
  {
   "cell_type": "code",
   "execution_count": 12,
   "id": "e2879ea8-74cd-4441-8136-4d2f422feb67",
   "metadata": {},
   "outputs": [
    {
     "name": "stdout",
     "output_type": "stream",
     "text": [
      "100%|████████████████████████████████████████████| 1000/1000 [00:02<00:00, 342.26trial/s, best loss: 4.000050495523559]\n"
     ]
    },
    {
     "data": {
      "text/plain": [
       "{'x': 4.9928939797665075}"
      ]
     },
     "execution_count": 12,
     "metadata": {},
     "output_type": "execute_result"
    }
   ],
   "source": [
    "best = fmin(objecive, space=space, algo=tpe.suggest, max_evals=1000)\n",
    "best"
   ]
  },
  {
   "cell_type": "code",
   "execution_count": null,
   "id": "13975e93-4259-43e5-a254-b36f2e9d1ee4",
   "metadata": {},
   "outputs": [],
   "source": []
  }
 ],
 "metadata": {
  "kernelspec": {
   "display_name": "Python 3 (ipykernel)",
   "language": "python",
   "name": "python3"
  },
  "language_info": {
   "codemirror_mode": {
    "name": "ipython",
    "version": 3
   },
   "file_extension": ".py",
   "mimetype": "text/x-python",
   "name": "python",
   "nbconvert_exporter": "python",
   "pygments_lexer": "ipython3",
   "version": "3.12.1"
  }
 },
 "nbformat": 4,
 "nbformat_minor": 5
}
